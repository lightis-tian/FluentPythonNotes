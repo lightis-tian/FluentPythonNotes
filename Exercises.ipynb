{
 "cells": [
  {
   "cell_type": "markdown",
   "id": "5e385728",
   "metadata": {},
   "source": [
    "# 数组（静态数组&动态数组）"
   ]
  },
  {
   "cell_type": "markdown",
   "id": "451d7aea",
   "metadata": {},
   "source": [
    "总结：  \n",
    "静态数组  \n",
    "增: 在末尾增加, O1; 在中间插入, O(n)  \n",
    "删：在末尾删除, O1; 在中间删除, O(n)  \n",
    "改：在任意位置修改（给定索引）, O1    \n",
    "查：在任意位置查找（给定索引）, O1  "
   ]
  },
  {
   "cell_type": "code",
   "execution_count": null,
   "id": "c4e19a78",
   "metadata": {},
   "outputs": [],
   "source": [
    "# 一个数组arr，前几位都被占据（12345），现在要往第index位插入一个新元素element，\n",
    "# 需要将第index位及后面的元素都向后移动一位，最后在第index位插入element。\n",
    "\n",
    "def insert_element(arr, index, element):\n",
    "    \"\"\"\n",
    "    arr: list[int] - 数组\n",
    "    index: int - 插入位置\n",
    "    element: int - 要插入的元素\n",
    "    \"\"\"\n",
    "    # 完善一下\n",
    "    if index < 0 or index >= len(arr):\n",
    "        raise ValueError(\"Index out of bounds\")\n",
    "\n",
    "    for i in range(len(arr) - 1, index, -1):\n",
    "        arr[i] = arr[i-1]\n",
    "\n",
    "    arr[index] = element\n",
    "    return arr\n",
    "\n",
    "insert_element([1, 2, 3, 4, 5, 0, 0, 0, 0], 2, 6)"
   ]
  },
  {
   "cell_type": "code",
   "execution_count": null,
   "id": "40441b99",
   "metadata": {},
   "outputs": [],
   "source": [
    "# 一个数组arr，前几位都被占据（12345），现在要删除第index位的元素，\n",
    "# 需要将第index位后面的元素都向前移动一位。\n",
    "\n",
    "def delete_element(arr, index):\n",
    "    \"\"\"arr: list[int] - 数组\n",
    "    index: int - 删除位置\n",
    "    \"\"\"\n",
    "    if index < 0 or index >= len(arr):\n",
    "        raise ValueError(\"Index out of bounds\")\n",
    "\n",
    "    for i in range(index, len(arr)-1):\n",
    "        arr[i] = arr[i+1]\n",
    "    return arr\n",
    "\n",
    "delete_element([1, 2, 3, 4, 5, 0, 0, 0, 0], 2)"
   ]
  },
  {
   "cell_type": "markdown",
   "id": "1306db6c",
   "metadata": {},
   "source": [
    "# 链表"
   ]
  },
  {
   "cell_type": "markdown",
   "id": "a331ce21",
   "metadata": {},
   "source": [
    "## 单链表"
   ]
  },
  {
   "cell_type": "code",
   "execution_count": null,
   "id": "87cbc29f",
   "metadata": {},
   "outputs": [],
   "source": [
    "# 将数组转化为单链表\n",
    "\n",
    "class LinkedListNode:\n",
    "    def __init__(self, value):\n",
    "        self.value = value\n",
    "        self.next = None\n",
    "\n",
    "def create_linked_list(arr):\n",
    "    \"\"\"arr: list[int] - 数组\n",
    "    返回单链表的头节点\n",
    "    \"\"\"\n",
    "    if not arr:\n",
    "        return None\n",
    "\n",
    "    head = LinkedListNode(arr[0])\n",
    "    cur = head\n",
    "\n",
    "    for value in arr[1:]:\n",
    "        cur.next = LinkedListNode(value)\n",
    "        cur = cur.next\n",
    "\n",
    "    return head"
   ]
  },
  {
   "cell_type": "code",
   "execution_count": null,
   "id": "5830f6ad",
   "metadata": {},
   "outputs": [],
   "source": [
    "# 在末尾增加一个元素99\n",
    "\n",
    "num_linked_list = create_linked_list([1, 2, 3, 4])\n",
    "cur = num_linked_list # 得到链表头\n",
    "\n",
    "# 走到链表尾部\n",
    "while cur.next is not None:\n",
    "    cur = cur.next\n",
    "\n",
    "cur.next = LinkedListNode(99)\n",
    "\n",
    "# 打印链表看看\n",
    "# TODO: 再怎么回到链表开头呢\n",
    "cur = cur.next\n",
    "print(cur.value)"
   ]
  },
  {
   "cell_type": "code",
   "execution_count": null,
   "id": "eebf01ed",
   "metadata": {},
   "outputs": [],
   "source": [
    "# 在开头增加一个元素99\n",
    "num_linked_list = create_linked_list([1, 2, 3, 4])\n",
    "new_head = LinkedListNode(99)\n",
    "new_head.next = num_linked_list\n",
    "\n",
    "p = new_head\n",
    "while p.next is not None:\n",
    "    print(p.value)\n",
    "    p = p.next"
   ]
  },
  {
   "cell_type": "code",
   "execution_count": null,
   "id": "5d5eb016",
   "metadata": {},
   "outputs": [],
   "source": [
    "# 在链表第三个位置插入一个新元素99\n",
    "num_linked_list = create_linked_list([1, 2, 3, 4])\n",
    "cur = num_linked_list\n",
    "\n",
    "new_value = LinkedListNode(99)\n",
    "\n",
    "# 首先找到第二个位置节点\n",
    "for i in range(2):\n",
    "    cur = cur.next\n",
    "# 链接上新节点\n",
    "new_value.next = cur.next\n",
    "cur.next = new_value\n",
    "\n",
    "while cur.next is not None:\n",
    "    print(cur.value)\n",
    "    cur = cur.next"
   ]
  },
  {
   "cell_type": "code",
   "execution_count": null,
   "id": "705c6fbe",
   "metadata": {},
   "outputs": [],
   "source": [
    "# 删除单链表的头部元素\n",
    "num_linked_list = create_linked_list([1, 2, 3, 4])\n",
    "\n",
    "head = num_linked_list.next\n",
    "\n",
    "while head.next is not None:\n",
    "    print(head.value)\n",
    "    head = head.next"
   ]
  },
  {
   "cell_type": "code",
   "execution_count": null,
   "id": "3ef52ace",
   "metadata": {},
   "outputs": [],
   "source": [
    "# 删除单链表的尾部元素\n",
    "num_linked_list = create_linked_list([1, 2, 3, 4])\n",
    "head = num_linked_list\n",
    "\n",
    "# 找到倒数第二个元素\n",
    "while head.next is not None:\n",
    "    head = head.next\n",
    "\n",
    "head.next = None"
   ]
  },
  {
   "cell_type": "code",
   "execution_count": null,
   "id": "da7dc8cf",
   "metadata": {},
   "outputs": [],
   "source": [
    "# 删除单链表第4个元素\n",
    "num_linked_list = create_linked_list([1, 2, 3, 4, 5, 6, 7])\n",
    "\n",
    "head = num_linked_list\n",
    "\n",
    "# 找到第3个节点\n",
    "for i in range(2):\n",
    "    head = head.next\n",
    "\n",
    "head.next = head.next.next\n",
    "\n",
    "while head.next is not None:\n",
    "    print(head.value)\n",
    "    head = head.next"
   ]
  },
  {
   "cell_type": "markdown",
   "id": "12595060",
   "metadata": {},
   "source": [
    "## 双链表"
   ]
  },
  {
   "cell_type": "code",
   "execution_count": null,
   "id": "68fa7d4f",
   "metadata": {},
   "outputs": [],
   "source": [
    "class DoublyLinkedListNode:\n",
    "    def __init__(self, x):\n",
    "        self.value = x\n",
    "        self.prev = None\n",
    "        self.next = None\n",
    "\n",
    "\n",
    "def create_doubly_linked_list(arr:list):\n",
    "    if not arr:\n",
    "        return None\n",
    "\n",
    "    head = DoublyLinkedListNode(arr[0])\n",
    "    cur = head\n",
    "\n",
    "    for value in arr[1:]:\n",
    "        new_node = DoublyLinkedListNode(value)\n",
    "        cur.next = new_node\n",
    "        new_node.prev = cur\n",
    "\n",
    "        cur = cur.next\n",
    "\n",
    "    return head"
   ]
  },
  {
   "cell_type": "code",
   "execution_count": null,
   "id": "db18ad93",
   "metadata": {},
   "outputs": [],
   "source": [
    "# 在双链表头部插入元素99\n",
    "\n",
    "num_list = create_doubly_linked_list([1, 2, 3, 4, 5, 6, 7])\n",
    "head = num_list\n",
    "\n",
    "new_head = DoublyLinkedListNode(99)\n",
    "\n",
    "new_head.next = head\n",
    "head.prev = new_head\n",
    "\n",
    "head = new_head\n",
    "\n",
    "while head:\n",
    "    print(head.value)\n",
    "    head = head.next"
   ]
  },
  {
   "cell_type": "code",
   "execution_count": null,
   "id": "8a8d6cca",
   "metadata": {},
   "outputs": [],
   "source": [
    "# 在双链表尾部插入元素99\n",
    "num_list = create_doubly_linked_list([1, 2, 3, 4, 5, 6, 7])\n",
    "tail = num_list\n",
    "\n",
    "# 找到尾节点\n",
    "while tail.next is not None:\n",
    "    tail = tail.next\n",
    "\n",
    "\n",
    "new_tail = DoublyLinkedListNode(99)\n",
    "tail.next = new_tail\n",
    "new_tail.prev = tail\n",
    "\n",
    "tail = new_tail\n",
    "\n",
    "# 从后往前打印链表\n",
    "while tail:\n",
    "    print(tail.value)\n",
    "    tail = tail.prev"
   ]
  },
  {
   "cell_type": "code",
   "execution_count": null,
   "id": "1a8f4f69",
   "metadata": {},
   "outputs": [],
   "source": [
    "# 在双链表第4位插入元素99\n",
    "num_list = create_doubly_linked_list([1, 2, 3, 4, 5, 6, 7])\n",
    "head = num_list\n",
    "\n",
    "# 先找到第三个节点\n",
    "for i in range(2):\n",
    "    head = head.next\n",
    "\n",
    "new_node = DoublyLinkedListNode(99)\n",
    "new_node.next = head.next\n",
    "head.next = new_node\n",
    "new_node.prev = head\n",
    "\n",
    "# 让指针回到头节点\n",
    "while head.prev is not None:\n",
    "    head = head.prev\n",
    "\n",
    "while head:\n",
    "    print(head.value)\n",
    "    head = head.next"
   ]
  },
  {
   "cell_type": "code",
   "execution_count": null,
   "id": "b5312753",
   "metadata": {},
   "outputs": [],
   "source": [
    "# 删除头部元素\n",
    "num_list = create_doubly_linked_list([1, 2, 3, 4, 5, 6, 7])\n",
    "head = num_list\n",
    "\n",
    "head = head.next\n",
    "head.prev = None\n",
    "\n",
    "while head:\n",
    "    print(head.value)\n",
    "    head = head.next"
   ]
  },
  {
   "cell_type": "code",
   "execution_count": null,
   "id": "51dda585",
   "metadata": {},
   "outputs": [],
   "source": [
    "# 删除尾节点\n",
    "num_list = create_doubly_linked_list([1, 2, 3, 4, 5, 6, 7])\n",
    "head = num_list\n",
    "\n",
    "# 找到倒数第二个节点\n",
    "while head.next is not None:\n",
    "    head = head.next\n",
    "\n",
    "head = head.prev\n",
    "head.next = None\n",
    "\n",
    "# 回到头节点\n",
    "while head.prev is not None:\n",
    "    head = head.prev\n",
    "\n",
    "while head:\n",
    "    print(head.value)\n",
    "    head = head.next"
   ]
  },
  {
   "cell_type": "code",
   "execution_count": null,
   "id": "540bd47e",
   "metadata": {},
   "outputs": [],
   "source": [
    "# 删除第四个节点\n",
    "num_list = create_doubly_linked_list([1, 2, 3, 4, 5, 6, 7])\n",
    "head = num_list\n",
    "\n",
    "# 找到第三个节点\n",
    "for i in range(2):\n",
    "    head = head.next\n",
    "\n",
    "head.next = head.next.next\n",
    "head.next.next.prev = head\n",
    "\n",
    "# 回到头节点\n",
    "while head.prev is not None:\n",
    "    head = head.prev\n",
    "\n",
    "while head:\n",
    "    print(head.value)\n",
    "    head = head.next\n",
    "\n",
    "# Enhance - for opt\n",
    "# 现在 p 指向第 3 个节点，我们将它后面的那个节点摘除出去\n",
    "# toDelete = p.next\n",
    "\n",
    "# 把 toDelete 从链表中摘除\n",
    "# p.next = toDelete.next\n",
    "# toDelete.next.prev = p\n",
    "\n",
    "# 把 toDelete 的前后指针都置为 null 是个好习惯（可选）\n",
    "# toDelete.next = None\n",
    "# toDelete.prev = None"
   ]
  },
  {
   "cell_type": "markdown",
   "id": "d21bb633",
   "metadata": {},
   "source": [
    "## 环形数组"
   ]
  },
  {
   "cell_type": "code",
   "execution_count": null,
   "id": "d484044c",
   "metadata": {},
   "outputs": [],
   "source": [
    "class CycleArray:\n",
    "    def __init__(self, size=10):\n",
    "        self.size = size\n",
    "        self.arr = [None] * size\n",
    "\n",
    "        # 索引区间左闭右开\n",
    "        self.start = 0  # 左闭\n",
    "        self.end = 0  # 右开\n",
    "\n",
    "        #NOTE: 这是什么用处\n",
    "        self.count = 0\n",
    "\n",
    "    # 在数组尾部增加元素\n",
    "    def add_last(self, x):\n",
    "        self.arr[self.end] = x\n",
    "        # end是开区间，所以先赋值，后右移\n",
    "        self.end = (self.end+1) % self.size\n",
    "        self.count += 1\n",
    "\n",
    "    def add_first(self, x):\n",
    "        # start是闭区间，所以先左移，再赋值\n",
    "        # TODO: 左移特别要注意成为负值的情况\n",
    "        self.start = (self.start-1 + self.size) % self.size\n",
    "        self.arr[self.start] = x\n",
    "        self.count += 1\n",
    "\n",
    "    def remove_last(self):\n",
    "        # end是开区间，所以先左移，再置None\n",
    "        self.end = (self.end-1+self.size) % self.size\n",
    "        self.arr[self.end] = None\n",
    "\n",
    "        self.count -= 1\n",
    "\n",
    "    def remove_first(self):\n",
    "        # start是闭区间，所以先置None，再右移\n",
    "        self.arr[self.start] = None\n",
    "        self.start = (self.start+1) % self.size"
   ]
  },
  {
   "cell_type": "markdown",
   "id": "8e3071d3",
   "metadata": {},
   "source": [
    "# 哈希表"
   ]
  },
  {
   "cell_type": "markdown",
   "id": "91cfdef1",
   "metadata": {},
   "source": [
    "哈希表是一个强化版的数组（通过hash函数将key映射为数组的index）  \n",
    "哈希表增删查改的效率取决于hash函数，不一定是O1  \n",
    "\n",
    "**关键概念**\n",
    "1. Key是唯一的（索引必须唯一），value可以不唯一\n",
    "2. hash函数是决定哈希表性能的关键。hash函数必须保证相同的key一定能取出相同的结果。\n",
    "3. 哈希冲突（原因一： hash函数问题，把多个key映射到同一索引； 原因二： 哈希表已经存在了过多键值对）\n",
    "4. 哈希冲突解决办法：  \n",
    "    hash函数问题：优化hash函数，拉链法和数组法  \n",
    "    数据过多问题：引入负载因子来实现自动扩容  \n",
    "5. 负载因子size / self.length\n",
    "6. 不要在遍历中增删元素\n",
    "7. Key必须是不可变的，涉及hash函数，效率等问题"
   ]
  },
  {
   "cell_type": "markdown",
   "id": "1fab114b",
   "metadata": {},
   "source": [
    "## 用链表加强哈希表"
   ]
  },
  {
   "cell_type": "code",
   "execution_count": null,
   "id": "898efa38",
   "metadata": {},
   "outputs": [],
   "source": [
    "# 实现一个哈希链表\n",
    "\n",
    "class HashLinkedMap:\n",
    "    class LinkedNode:\n",
    "        def __init__(self, key, value):\n",
    "            self.key = key\n",
    "            self.value = value\n",
    "            self.prev = None\n",
    "            self.next = None\n",
    "\n",
    "    def __init__(self):\n",
    "        self.map = {}\n",
    "        self.head = self.LinkedNode(None, None)\n",
    "        self.tail = self.LinkedNode(None, None)\n",
    "\n",
    "        self.head.next = self.tail\n",
    "        self.tail.prev = self.head\n",
    "\n",
    "    def put(self, key, value):\n",
    "        if key in self.map.keys():\n",
    "            self.map[key] = self.LinkedNode(key, value)\n",
    "\n",
    "        # 在后面新增一个节点\n",
    "        node = self.LinkedNode(key, value)\n",
    "\n",
    "        #  find old tail node\n",
    "        temp = self.tail.prev\n",
    "\n",
    "        # new tail node prev is old tail node\n",
    "        node.prev = temp\n",
    "\n",
    "        # new tail node next is tail\n",
    "        node.next = self.tail\n",
    "\n",
    "        # old tail node next is new tail node\n",
    "        temp.next = node\n",
    "\n",
    "        # system tail prev is new tail node\n",
    "        self.tail.prev = node\n",
    "\n",
    "        self.map[key] = node\n",
    "\n",
    "\n",
    "    def get(self, key):\n",
    "        if key not in self.map.keys():\n",
    "            raise IndexError(f'Hashmap without key {key}')\n",
    "\n",
    "        node = self.map[key]\n",
    "        return node.value\n",
    "\n",
    "    def remove(self, key):\n",
    "        if key not in self.map.keys():\n",
    "            return\n",
    "\n",
    "        # find target node\n",
    "        target = self.map[key]\n",
    "\n",
    "        # change its prev link\n",
    "        target.prev.next = target.next\n",
    "\n",
    "        # change its next link\n",
    "        target.next.prev = target.prev\n",
    "\n",
    "        # set its own prev and next as None\n",
    "        target.prev = None\n",
    "        target.next = None\n",
    "\n",
    "        # remove it from map\n",
    "        del self.map[key]\n",
    "\n",
    "    def keys(self):\n",
    "        key_list = []\n",
    "\n",
    "        cur = self.head.next\n",
    "        while cur != self.tail:\n",
    "            key_list.append(cur.key)\n",
    "            cur = cur.next\n",
    "\n",
    "        return key_list"
   ]
  },
  {
   "cell_type": "code",
   "execution_count": 2,
   "id": "9bc36b66",
   "metadata": {},
   "outputs": [
    {
     "data": {
      "text/plain": [
       "['a', 'b', 'c', 'd', 'e']"
      ]
     },
     "execution_count": 2,
     "metadata": {},
     "output_type": "execute_result"
    }
   ],
   "source": [
    "# let me test it\n",
    "\n",
    "my_map = HashLinkedMap()\n",
    "my_map.put('a', 1)\n",
    "my_map.put('b', 2)\n",
    "my_map.put('c', 3)\n",
    "my_map.put('d', 4)\n",
    "my_map.put('e', 5)\n",
    "\n",
    "my_map.keys()"
   ]
  },
  {
   "cell_type": "code",
   "execution_count": 3,
   "id": "773423ee",
   "metadata": {},
   "outputs": [
    {
     "data": {
      "text/plain": [
       "['a', 'b', 'd', 'e']"
      ]
     },
     "execution_count": 3,
     "metadata": {},
     "output_type": "execute_result"
    }
   ],
   "source": [
    "my_map.remove('c')\n",
    "\n",
    "my_map.keys()"
   ]
  },
  {
   "cell_type": "code",
   "execution_count": null,
   "id": "370ce1a9",
   "metadata": {},
   "outputs": [
    {
     "data": {
      "text/plain": [
       "dict_keys([])"
      ]
     },
     "execution_count": 6,
     "metadata": {},
     "output_type": "execute_result"
    }
   ],
   "source": []
  }
 ],
 "metadata": {
  "kernelspec": {
   "display_name": "py311",
   "language": "python",
   "name": "python3"
  },
  "language_info": {
   "codemirror_mode": {
    "name": "ipython",
    "version": 3
   },
   "file_extension": ".py",
   "mimetype": "text/x-python",
   "name": "python",
   "nbconvert_exporter": "python",
   "pygments_lexer": "ipython3",
   "version": "3.11.9"
  }
 },
 "nbformat": 4,
 "nbformat_minor": 5
}
